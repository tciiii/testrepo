{
 "cells": [
  {
   "cell_type": "markdown",
   "id": "2a3e681d-ff20-4dfc-93a2-6b2f6cea6c32",
   "metadata": {},
   "source": [
    "<h1>Data Science Tools and Ecosystem</h1>"
   ]
  },
  {
   "cell_type": "markdown",
   "id": "4b8ec8c2-7867-4203-bbb4-337d1ef9d2f6",
   "metadata": {},
   "source": [
    "In this notebook, Data Science Tools and Ecosystem are summarized."
   ]
  },
  {
   "cell_type": "markdown",
   "id": "c1bb4cfa-ac73-4e90-a4e2-e2eda95c2e7f",
   "metadata": {},
   "source": [
    "Objectives:\n",
    "* List some popular languages that Data Scientists use\n",
    "* List some common libraries used by Data scientists\n",
    "* List some tools used by Data Scientists in a table\n",
    "* Perform some arithmetic expressions in Python"
   ]
  },
  {
   "cell_type": "markdown",
   "id": "1b3b49d3-e25a-48df-ad4d-6ded901d39cb",
   "metadata": {},
   "source": [
    "Some of the popular languages that Data Scientists use are:"
   ]
  },
  {
   "cell_type": "markdown",
   "id": "bd8472ca-7448-4df8-846b-583de1d6a321",
   "metadata": {},
   "source": [
    "1. Python\n",
    "2. R\n",
    "3. SQL"
   ]
  },
  {
   "cell_type": "markdown",
   "id": "ef10cf4b-c74c-4c90-a211-4f45eca53867",
   "metadata": {},
   "source": [
    "Some of the commonly used libraries used by Data Scientists include:"
   ]
  },
  {
   "cell_type": "markdown",
   "id": "bf609e65-dfb6-4d25-b356-ad834f505e3f",
   "metadata": {},
   "source": [
    "1. Pandas\n",
    "2. TensorFlow\n",
    "3. NumPy"
   ]
  },
  {
   "cell_type": "markdown",
   "id": "3143ae59-a0e5-4241-9009-ea7707b7e19e",
   "metadata": {},
   "source": [
    "Data Science Tools |\n",
    "------------------\n",
    "Jupyter |\n",
    "RStudio |\n",
    "Hadoop |"
   ]
  },
  {
   "cell_type": "markdown",
   "id": "ddea4852-4353-4007-a1ab-3807410e3e6a",
   "metadata": {},
   "source": [
    "<h3>Below are a few examples of evaluating arithmetic expressions in Python</h3>"
   ]
  },
  {
   "cell_type": "code",
   "execution_count": 3,
   "id": "7ed1add7-0e50-4176-8732-01fc34b0db13",
   "metadata": {
    "tags": []
   },
   "outputs": [
    {
     "data": {
      "text/plain": [
       "17"
      ]
     },
     "execution_count": 3,
     "metadata": {},
     "output_type": "execute_result"
    }
   ],
   "source": [
    "#This a simple arithmetic expression to mutiply then add integers\n",
    "(3*4)+5"
   ]
  },
  {
   "cell_type": "code",
   "execution_count": 4,
   "id": "8e07d52d-d7b2-45b0-aa84-174b571b5447",
   "metadata": {
    "tags": []
   },
   "outputs": [
    {
     "data": {
      "text/plain": [
       "3.3333333333333335"
      ]
     },
     "execution_count": 4,
     "metadata": {},
     "output_type": "execute_result"
    }
   ],
   "source": [
    "#This will convert 200 minutes to hours by diving by 60\n",
    "200/60"
   ]
  },
  {
   "cell_type": "markdown",
   "id": "6aa8bb50-3b7a-4bcd-9999-1d06dfd5b6b0",
   "metadata": {},
   "source": [
    "<h2>Author</h2>"
   ]
  },
  {
   "cell_type": "markdown",
   "id": "5bd4cc91-46c6-45d4-b789-e8307496abf8",
   "metadata": {
    "tags": []
   },
   "source": [
    "Thomas Isenberg"
   ]
  },
  {
   "cell_type": "code",
   "execution_count": null,
   "id": "6b697fa9-dead-4e0e-9409-453036e2395c",
   "metadata": {},
   "outputs": [],
   "source": []
  }
 ],
 "metadata": {
  "kernelspec": {
   "display_name": "Python",
   "language": "python",
   "name": "conda-env-python-py"
  },
  "language_info": {
   "codemirror_mode": {
    "name": "ipython",
    "version": 3
   },
   "file_extension": ".py",
   "mimetype": "text/x-python",
   "name": "python",
   "nbconvert_exporter": "python",
   "pygments_lexer": "ipython3",
   "version": "3.7.12"
  }
 },
 "nbformat": 4,
 "nbformat_minor": 5
}
